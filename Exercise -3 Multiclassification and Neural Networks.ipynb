{
 "cells": [
  {
   "cell_type": "markdown",
   "metadata": {},
   "source": [
    "#### Multicalssification for recognizing hand written digits"
   ]
  },
  {
   "cell_type": "code",
   "execution_count": 1,
   "metadata": {},
   "outputs": [],
   "source": [
    "# importing the libraries\n",
    "import pandas as pd\n",
    "import numpy as np\n",
    "import matplotlib.pyplot as plt\n",
    "import cv2"
   ]
  },
  {
   "cell_type": "code",
   "execution_count": 2,
   "metadata": {},
   "outputs": [
    {
     "name": "stdout",
     "output_type": "stream",
     "text": [
      "the shape of the image : (5000, 400)\n",
      "the classified image : (5000, 1)\n"
     ]
    }
   ],
   "source": [
    "# reading the data\n",
    "import scipy.io\n",
    "mat = scipy.io.loadmat('ex3data1.mat')\n",
    "print(\"the shape of the image :\",mat['X'].shape)\n",
    "print(\"the classified image :\",mat['y'].shape)\n"
   ]
  },
  {
   "cell_type": "code",
   "execution_count": 3,
   "metadata": {},
   "outputs": [
    {
     "data": {
      "text/plain": [
       "<matplotlib.image.AxesImage at 0x7fde892a4588>"
      ]
     },
     "execution_count": 3,
     "metadata": {},
     "output_type": "execute_result"
    },
    {
     "data": {
      "image/png": "[encoded data removed]",
      "text/plain": [
       "<Figure size 288x288 with 1 Axes>"
      ]
     },
     "metadata": {},
     "output_type": "display_data"
    }
   ],
   "source": [
    "plt.figure(figsize=(4,4))\n",
    "plt.imshow(mat['X'][:,:])"
   ]
  },
  {
   "cell_type": "code",
   "execution_count": 4,
   "metadata": {},
   "outputs": [],
   "source": [
    "feat=mat[\"X\"]\n",
    "target=mat['y']"
   ]
  },
  {
   "cell_type": "code",
   "execution_count": 5,
   "metadata": {},
   "outputs": [
    {
     "name": "stdout",
     "output_type": "stream",
     "text": [
      "[[ 0.00000000e+00  0.00000000e+00  0.00000000e+00  0.00000000e+00\n",
      "   0.00000000e+00  0.00000000e+00  0.00000000e+00  0.00000000e+00\n",
      "   0.00000000e+00  0.00000000e+00  0.00000000e+00  0.00000000e+00\n",
      "   0.00000000e+00  0.00000000e+00  0.00000000e+00  0.00000000e+00\n",
      "   0.00000000e+00  0.00000000e+00  0.00000000e+00  0.00000000e+00]\n",
      " [ 0.00000000e+00  0.00000000e+00  0.00000000e+00  0.00000000e+00\n",
      "   0.00000000e+00  0.00000000e+00  0.00000000e+00  0.00000000e+00\n",
      "   0.00000000e+00  0.00000000e+00  0.00000000e+00  0.00000000e+00\n",
      "   0.00000000e+00  0.00000000e+00  0.00000000e+00  0.00000000e+00\n",
      "   0.00000000e+00  0.00000000e+00  0.00000000e+00  0.00000000e+00]\n",
      " [ 0.00000000e+00  0.00000000e+00  0.00000000e+00  0.00000000e+00\n",
      "   0.00000000e+00  0.00000000e+00  0.00000000e+00  0.00000000e+00\n",
      "   0.00000000e+00  0.00000000e+00  0.00000000e+00  1.22294240e-05\n",
      "   1.15571870e-03 -1.06901472e-02 -3.72834373e-02 -1.64591741e-02\n",
      "  -2.04639028e-04  1.26921590e-04  0.00000000e+00  0.00000000e+00]\n",
      " [ 0.00000000e+00  0.00000000e+00  0.00000000e+00  0.00000000e+00\n",
      "   0.00000000e+00  0.00000000e+00  0.00000000e+00  2.20129632e-05\n",
      "  -1.40012255e-04 -1.28681577e-03 -1.76087623e-03  3.08466095e-04\n",
      "  -1.18080694e-02  7.37520084e-02  3.07238954e-01  1.14814525e-01\n",
      "  -1.63340312e-02 -1.78085891e-03  2.21098856e-04  0.00000000e+00]\n",
      " [ 0.00000000e+00  0.00000000e+00  0.00000000e+00  0.00000000e+00\n",
      "   0.00000000e+00  0.00000000e+00  3.06372549e-06  8.66760426e-04\n",
      "  -7.76399101e-03 -1.90906693e-02 -1.07871221e-02 -1.28806679e-02\n",
      "   1.00355672e-02  5.49028271e-01  1.02195013e+00  7.74228094e-01\n",
      "   2.66324108e-01 -2.33464800e-03 -2.78305419e-03  0.00000000e+00]\n",
      " [ 0.00000000e+00  0.00000000e+00  0.00000000e+00  0.00000000e+00\n",
      "   0.00000000e+00  1.87980578e-31  4.32495915e-04 -1.41406282e-02\n",
      "   6.39299258e-02  3.94783633e-01  4.34300534e-01  2.92563147e-02\n",
      "  -1.24453243e-02  3.16235873e-01  6.90340925e-01  1.01042067e+00\n",
      "   8.47665356e-01  9.69122403e-02 -1.47171160e-02  0.00000000e+00]\n",
      " [ 0.00000000e+00  0.00000000e+00  0.00000000e+00  0.00000000e+00\n",
      "   3.37009804e-05  2.21439270e-04 -1.11880447e-02 -1.28874689e-02\n",
      "   4.98304858e-01  1.02920413e+00  8.95849758e-01  1.70043896e-01\n",
      "  -2.28715707e-02 -2.03296739e-02 -4.47659654e-03  7.92460614e-01\n",
      "   1.03716871e+00  5.01462367e-01 -2.09543505e-02  0.00000000e+00]\n",
      " [ 0.00000000e+00  0.00000000e+00  0.00000000e+00  0.00000000e+00\n",
      "   8.39244222e-04 -9.65283723e-03 -3.65608821e-03  4.55743376e-01\n",
      "   9.63068787e-01  1.03500032e+00  7.47545011e-01  1.85176409e-02\n",
      "  -6.45469507e-03 -1.41356855e-03 -2.61196208e-02  3.87130043e-01\n",
      "   1.05052221e+00  8.13322885e-01 -2.06821641e-02  0.00000000e+00]\n",
      " [ 0.00000000e+00  0.00000000e+00  3.66882720e-05  3.52481618e-04\n",
      "  -2.19167177e-02  2.93303036e-02  5.28885468e-01  9.45653323e-01\n",
      "   1.00846950e+00  1.00775284e+00  4.93513327e-01 -3.56507864e-02\n",
      "   4.83062248e-04 -1.31428717e-03 -2.65160675e-02  4.21009293e-01\n",
      "   1.04880060e+00  7.26348651e-01 -2.06867851e-02  0.00000000e+00]\n",
      " [ 0.00000000e+00  0.00000000e+00  2.59263789e-04 -1.20458027e-02\n",
      "   1.18685270e-01  6.30113256e-01  1.00558349e+00  1.01215703e+00\n",
      "   9.91504613e-01  9.12786033e-01  1.54972954e-01 -1.22066993e-02\n",
      "  -1.29978395e-03 -1.91451014e-02  7.60269608e-02  7.98592899e-01\n",
      "   1.04266866e+00  3.63094673e-01 -2.11483864e-02  0.00000000e+00]\n",
      " [ 0.00000000e+00  0.00000000e+00 -8.81863764e-03  4.28519199e-02\n",
      "   7.16426334e-01  1.04764874e+00  9.38432019e-01  5.42554897e-01\n",
      "   7.62258612e-01  8.02018059e-01  2.04471678e-02 -9.14055692e-03\n",
      "  -2.37681913e-02  7.83097767e-02  5.85645578e-01  1.02003450e+00\n",
      "   8.14665288e-01  1.13907675e-01 -1.38476988e-02  0.00000000e+00]\n",
      " [ 0.00000000e+00  0.00000000e+00 -2.46064164e-02  1.88353537e-01\n",
      "   9.01473958e-01  9.24629613e-01  3.17675313e-01  4.23107497e-02\n",
      "   6.79072661e-01  9.67154480e-01  1.33565291e-01 -5.08015046e-03\n",
      "   3.16774320e-01  6.95127400e-01  9.87511693e-01  9.79533105e-01\n",
      "   3.12134668e-01 -3.69832049e-02 -3.12329793e-04  0.00000000e+00]\n",
      " [ 0.00000000e+00  0.00000000e+00 -4.29784165e-02  3.63735766e-01\n",
      "   1.01734112e+00  5.55883134e-01 -3.88997765e-02 -4.08257327e-02\n",
      "   4.56768952e-01  1.04473979e+00  8.16652705e-01  6.90832994e-01\n",
      "   9.28587537e-01  1.02680292e+00  9.40186448e-01  5.32888658e-01\n",
      "  -1.36261261e-03 -4.68755601e-03  1.18217765e-04  0.00000000e+00]\n",
      " [ 0.00000000e+00  0.00000000e+00 -4.32978680e-02  3.67015404e-01\n",
      "   1.01679876e+00  5.19830270e-01 -2.96699687e-02 -1.90393278e-02\n",
      "   1.25445261e-01  7.51686343e-01  9.96085614e-01  1.05220568e+00\n",
      "   9.60891270e-01  7.80310406e-01  2.48152880e-01 -2.36652539e-02\n",
      "  -6.41127111e-03  6.27777098e-04  0.00000000e+00  0.00000000e+00]\n",
      " [ 0.00000000e+00  0.00000000e+00 -3.23721006e-02  2.64546858e-01\n",
      "   9.36732418e-01  4.57249183e-01 -2.89952682e-02  4.92896743e-04\n",
      "  -1.22434981e-02  1.09578891e-01  2.76603911e-01  5.57186087e-01\n",
      "   3.23726696e-01  1.19399391e-01  1.67495064e-02 -5.44422318e-03\n",
      "   1.21272467e-04  0.00000000e+00  0.00000000e+00  0.00000000e+00]\n",
      " [ 0.00000000e+00  0.00000000e+00 -3.40874811e-02  2.80678785e-01\n",
      "   9.48759191e-01  4.62281454e-01 -2.88480392e-02  1.17402470e-04\n",
      "   6.12745098e-06 -1.93477328e-02 -2.69320364e-02 -7.00876566e-03\n",
      "  -1.84836194e-02 -2.04678309e-02 -4.06341912e-03  5.90073529e-04\n",
      "   0.00000000e+00  0.00000000e+00  0.00000000e+00  0.00000000e+00]\n",
      " [ 0.00000000e+00  0.00000000e+00 -5.16481187e-02  4.45532203e-01\n",
      "   1.08039202e+00  4.59248128e-01 -2.94490400e-02  0.00000000e+00\n",
      "   0.00000000e+00  6.43382353e-05 -4.18964461e-04 -2.51046773e-03\n",
      "  -9.75704211e-04  5.97426471e-05  0.00000000e+00  0.00000000e+00\n",
      "   0.00000000e+00  0.00000000e+00  0.00000000e+00  0.00000000e+00]\n",
      " [ 0.00000000e+00  0.00000000e+00 -4.06173495e-02  3.55847958e-01\n",
      "   7.55913997e-01  2.46378239e-01 -1.66000163e-02  0.00000000e+00\n",
      "   0.00000000e+00  0.00000000e+00  0.00000000e+00  0.00000000e+00\n",
      "   0.00000000e+00  0.00000000e+00  0.00000000e+00  0.00000000e+00\n",
      "   0.00000000e+00  0.00000000e+00  0.00000000e+00  0.00000000e+00]\n",
      " [ 0.00000000e+00  0.00000000e+00  1.03542456e-03 -8.91680283e-03\n",
      "  -2.19252111e-02 -9.38640387e-03  6.01000817e-04  0.00000000e+00\n",
      "   0.00000000e+00  0.00000000e+00  0.00000000e+00  0.00000000e+00\n",
      "   0.00000000e+00  0.00000000e+00  0.00000000e+00  0.00000000e+00\n",
      "   0.00000000e+00  0.00000000e+00  0.00000000e+00  0.00000000e+00]\n",
      " [ 0.00000000e+00  0.00000000e+00  0.00000000e+00  0.00000000e+00\n",
      "   0.00000000e+00  0.00000000e+00  0.00000000e+00  0.00000000e+00\n",
      "   0.00000000e+00  0.00000000e+00  0.00000000e+00  0.00000000e+00\n",
      "   0.00000000e+00  0.00000000e+00  0.00000000e+00  0.00000000e+00\n",
      "   0.00000000e+00  0.00000000e+00  0.00000000e+00  0.00000000e+00]]\n"
     ]
    }
   ],
   "source": [
    "k=feat[2565,:]\n",
    "k=k.reshape((20,20))\n",
    "print(k)"
   ]
  },
  {
   "cell_type": "code",
   "execution_count": 6,
   "metadata": {},
   "outputs": [
    {
     "data": {
      "text/plain": [
       "<matplotlib.image.AxesImage at 0x7fde89232320>"
      ]
     },
     "execution_count": 6,
     "metadata": {},
     "output_type": "execute_result"
    },
    {
     "data": {
      "image/png": "[encoded data removed]",
      "text/plain": [
       "<Figure size 432x288 with 1 Axes>"
      ]
     },
     "metadata": {},
     "output_type": "display_data"
    }
   ],
   "source": [
    "plt.imshow(k)"
   ]
  },
  {
   "cell_type": "code",
   "execution_count": 7,
   "metadata": {},
   "outputs": [],
   "source": [
    "testt=target"
   ]
  },
  {
   "cell_type": "code",
   "execution_count": 8,
   "metadata": {},
   "outputs": [
    {
     "name": "stderr",
     "output_type": "stream",
     "text": [
      "/home/sai/anaconda3/lib/python3.6/site-packages/sklearn/cross_validation.py:41: DeprecationWarning: This module was deprecated in version 0.18 in favor of the model_selection module into which all the refactored classes and functions are moved. Also note that the interface of the new CV iterators are different from that of this module. This module will be removed in 0.20.\n",
      "  \"This module will be removed in 0.20.\", DeprecationWarning)\n"
     ]
    }
   ],
   "source": [
    "# now we have to split the data in to the training and test dataset\n",
    "from sklearn.cross_validation import train_test_split\n",
    "x_train,x_test,y_train,y_test=train_test_split(feat,target,test_size=0.2,random_state=0)"
   ]
  },
  {
   "cell_type": "code",
   "execution_count": 9,
   "metadata": {},
   "outputs": [],
   "source": [
    "training_set=y_train"
   ]
  },
  {
   "cell_type": "code",
   "execution_count": 10,
   "metadata": {},
   "outputs": [
    {
     "name": "stdout",
     "output_type": "stream",
     "text": [
      "the shape of the training dataset is : (4000, 400) (4000, 1)\n",
      "the shape of the test dataset is : (1000, 400) (1000, 1)\n"
     ]
    }
   ],
   "source": [
    "testing=y_test\n",
    "# the sizes of the test and train set of the data\n",
    "print(\"the shape of the training dataset is :\",x_train.shape,y_train.shape)\n",
    "print(\"the shape of the test dataset is :\",x_test.shape,y_test.shape)"
   ]
  },
  {
   "cell_type": "code",
   "execution_count": 11,
   "metadata": {},
   "outputs": [],
   "source": [
    "# ceating the dummy variables \n",
    "from sklearn.preprocessing import OneHotEncoder,LabelEncoder\n",
    "labelencoder_X = LabelEncoder()\n",
    "y_train[:, 0] = labelencoder_X.fit_transform(y_train[:, 0])\n",
    "y_test[:, 0] = labelencoder_X.fit_transform(y_test[:, 0])\n",
    "\n",
    "ohe=OneHotEncoder(categorical_features=[0])\n",
    "y_train=ohe.fit_transform(y_train).toarray()\n",
    "y_test=ohe.fit_transform(y_test).toarray()"
   ]
  },
  {
   "cell_type": "code",
   "execution_count": 12,
   "metadata": {},
   "outputs": [
    {
     "name": "stdout",
     "output_type": "stream",
     "text": [
      "the shape of the y_train is : (4000, 10)\n",
      "the shape of the y_test is : (1000, 10)\n"
     ]
    }
   ],
   "source": [
    "# now the shapes of the y_train and y_test\n",
    "print(\"the shape of the y_train is :\",y_train.shape)\n",
    "print(\"the shape of the y_test is :\",y_test.shape)\n"
   ]
  },
  {
   "cell_type": "markdown",
   "metadata": {},
   "source": [
    "### Implementing the logistic regression"
   ]
  },
  {
   "cell_type": "code",
   "execution_count": 13,
   "metadata": {},
   "outputs": [],
   "source": [
    "def Linear_equ(features,para,bias):\n",
    "    return (np.dot(features,para)+bias)\n",
    "def sigmoid(features,para,bias):\n",
    "    Le=Linear_equ(features,para,bias)\n",
    "    return 1/(1+np.exp(-Le))\n",
    "def GradientDescent(features,targets,para,bias,learning_rate):\n",
    "    m=len(features)\n",
    "    num_iters=1500\n",
    "    for _ in range(num_iters):\n",
    "        pre=sigmoid(features,para,bias)\n",
    "        tar=pre-targets\n",
    "        para=para-(learning_rate/m)*np.dot(features.T,tar)\n",
    "        bias=bias-(learning_rate/m)*sum(tar)\n",
    "    return para,bias\n",
    "def Cost_function(features,targets,para,bias):\n",
    "    hypo=sigmoid(features,para,bias)\n",
    "    \n",
    "    l=len(features)\n",
    "    error=0\n",
    "    for i,j in zip(hypo,targets):\n",
    "        \n",
    "        \n",
    "        if(j==1):\n",
    "            k1=m.log(i)\n",
    "            error+=j*k1\n",
    "        else:\n",
    "            k0=m.log(1-i)\n",
    "            error+=(1-j)*k0\n",
    "    error=-error\n",
    "    return error"
   ]
  },
  {
   "cell_type": "code",
   "execution_count": 16,
   "metadata": {},
   "outputs": [],
   "source": [
    "learning_rate=0.3\n",
    "para=np.zeros((x_train.shape[1],y_train.shape[1]))\n",
    "bias=np.zeros((1,y_train.shape[1]))\n",
    "p,b=GradientDescent(x_train,y_train,para,bias,learning_rate)\n"
   ]
  },
  {
   "cell_type": "code",
   "execution_count": 22,
   "metadata": {},
   "outputs": [
    {
     "data": {
      "text/plain": [
       "[[1, 0, 0, 0, 0, 0, 0, 0, 0, 0]]"
      ]
     },
     "execution_count": 22,
     "metadata": {},
     "output_type": "execute_result"
    }
   ],
   "source": [
    "yy_pre=sigmoid(x_train[8],p,b)\n",
    "prect=[]\n",
    "for j in yy_pre:\n",
    "    k=[]\n",
    "    for i in j: \n",
    "        if(i>0.5):\n",
    "            k.append(1)\n",
    "        else:\n",
    "            k.append(0)\n",
    "    prect.append(k)\n",
    "prect"
   ]
  },
  {
   "cell_type": "code",
   "execution_count": 23,
   "metadata": {},
   "outputs": [],
   "source": [
    "num_prect=[]\n",
    "for i in prect:\n",
    "    #print(i)\n",
    "    for k,j in enumerate(i):\n",
    "        if(j==1):\n",
    "            num_prect.append(k)\n",
    "            break\n",
    "        if(k==9 and j==0):\n",
    "            num_prect.append(0)\n",
    "            \n"
   ]
  },
  {
   "cell_type": "code",
   "execution_count": 26,
   "metadata": {},
   "outputs": [
    {
     "name": "stdout",
     "output_type": "stream",
     "text": [
      "0\n",
      "[4] 0\n",
      "1\n",
      "[4] 0\n"
     ]
    }
   ],
   "source": [
    "count=0\n",
    "for i,j in zip(training_set,num_prect):\n",
    "    print(count)\n",
    "    print(i,j)\n",
    "    count+=1\n",
    "    if(i!=j):\n",
    "        print(count)\n",
    "        print(i,j)\n",
    "        \n"
   ]
  },
  {
   "cell_type": "markdown",
   "metadata": {},
   "source": [
    "### Finding the accuracy for 1000 examples of the handwitten digits "
   ]
  },
  {
   "cell_type": "code",
   "execution_count": 27,
   "metadata": {},
   "outputs": [
    {
     "data": {
      "text/plain": [
       "0.00025"
      ]
     },
     "execution_count": 27,
     "metadata": {},
     "output_type": "execute_result"
    }
   ],
   "source": [
    "count/4000\n",
    "\n",
    "# here accuracy is 84.5%"
   ]
  },
  {
   "cell_type": "markdown",
   "metadata": {},
   "source": [
    "#### Building the model with the Neural Networks"
   ]
  },
  {
   "cell_type": "markdown",
   "metadata": {},
   "source": [
    "- Forward propation in Neural Networks"
   ]
  },
  {
   "cell_type": "code",
   "execution_count": 28,
   "metadata": {},
   "outputs": [],
   "source": [
    "# reaading weights for the forward propagation\n",
    "weights=scipy.io.loadmat(\"ex3weights.mat\")"
   ]
  },
  {
   "cell_type": "code",
   "execution_count": 29,
   "metadata": {},
   "outputs": [
    {
     "data": {
      "text/plain": [
       "(10, 26)"
      ]
     },
     "execution_count": 29,
     "metadata": {},
     "output_type": "execute_result"
    }
   ],
   "source": [
    "weights[\"Theta2\"].shape"
   ]
  },
  {
   "cell_type": "code",
   "execution_count": 30,
   "metadata": {},
   "outputs": [],
   "source": [
    "car=cv2.imread(\"sample.png\")\n",
    "gray=cv2.cvtColor(car,cv2.COLOR_BGR2GRAY)\n"
   ]
  },
  {
   "cell_type": "code",
   "execution_count": 31,
   "metadata": {},
   "outputs": [
    {
     "data": {
      "text/plain": [
       "<matplotlib.image.AxesImage at 0x7fde7a2dcd68>"
      ]
     },
     "execution_count": 31,
     "metadata": {},
     "output_type": "execute_result"
    },
    {
     "data": {
      "image/png": "[encoded data removed]",
      "text/plain": [
       "<Figure size 432x288 with 1 Axes>"
      ]
     },
     "metadata": {},
     "output_type": "display_data"
    }
   ],
   "source": [
    "c=253-gray\n",
    "carr=c.reshape((1,400))\n",
    "g=cv2.cvtColor(gray,cv2.COLOR_GRAY2BGR)\n",
    "plt.imshow(g)"
   ]
  },
  {
   "cell_type": "code",
   "execution_count": 32,
   "metadata": {},
   "outputs": [],
   "source": [
    "\n",
    "digit_pre=sigmoid(x_test,p,b)\n"
   ]
  },
  {
   "cell_type": "code",
   "execution_count": 33,
   "metadata": {},
   "outputs": [
    {
     "data": {
      "text/plain": [
       "<matplotlib.image.AxesImage at 0x7fde7a235ef0>"
      ]
     },
     "execution_count": 33,
     "metadata": {},
     "output_type": "execute_result"
    },
    {
     "data": {
      "image/png": "[encoded data removed]",
      "text/plain": [
       "<Figure size 432x288 with 1 Axes>"
      ]
     },
     "metadata": {},
     "output_type": "display_data"
    }
   ],
   "source": [
    "f=202-gray\n",
    "plt.imshow(f)"
   ]
  },
  {
   "cell_type": "code",
   "execution_count": 34,
   "metadata": {},
   "outputs": [],
   "source": [
    "f=f.reshape((1,400))"
   ]
  },
  {
   "cell_type": "code",
   "execution_count": 35,
   "metadata": {},
   "outputs": [],
   "source": [
    "k=x_train[0]"
   ]
  },
  {
   "cell_type": "code",
   "execution_count": 36,
   "metadata": {},
   "outputs": [],
   "source": [
    "k=k.reshape((20,20))"
   ]
  },
  {
   "cell_type": "code",
   "execution_count": 37,
   "metadata": {},
   "outputs": [
    {
     "data": {
      "text/plain": [
       "<matplotlib.image.AxesImage at 0x7fde7a20beb8>"
      ]
     },
     "execution_count": 37,
     "metadata": {},
     "output_type": "execute_result"
    },
    {
     "data": {
      "image/png": "[encoded data removed]",
      "text/plain": [
       "<Figure size 432x288 with 1 Axes>"
      ]
     },
     "metadata": {},
     "output_type": "display_data"
    }
   ],
   "source": [
    "plt.imshow(k)"
   ]
  },
  {
   "cell_type": "code",
   "execution_count": 38,
   "metadata": {},
   "outputs": [
    {
     "data": {
      "text/plain": [
       "array([0., 0., 0., 0., 1., 0., 0., 0., 0., 0.])"
      ]
     },
     "execution_count": 38,
     "metadata": {},
     "output_type": "execute_result"
    }
   ],
   "source": [
    "y_train[0]"
   ]
  },
  {
   "cell_type": "markdown",
   "metadata": {},
   "source": [
    "#### Building the model in Neural Networks"
   ]
  },
  {
   "cell_type": "code",
   "execution_count": 31,
   "metadata": {},
   "outputs": [],
   "source": [
    "# we x_train,y_train data\n",
    "# we have read the parameters of each layeer\n",
    "# In this network we have the layers each layer consists of the neurons units\n",
    "\n",
    "\n",
    "\n",
    "\n",
    "\n",
    "# Reading the already given weights of input layer and hiddien layers\n",
    "w_data=scipy.io.loadmat(\"ex3weights.mat\")\n",
    "\n",
    "# reading the weights of 1st layer\n",
    "w_layer1=w_data[\"Theta1\"]\n",
    "w_layer2=w_data[\"Theta2\"]"
   ]
  },
  {
   "cell_type": "code",
   "execution_count": 32,
   "metadata": {},
   "outputs": [
    {
     "name": "stdout",
     "output_type": "stream",
     "text": [
      "the shape of the layer1 weights is : (25, 401)\n",
      "the shape of the layer2 weights is : (10, 26)\n"
     ]
    }
   ],
   "source": [
    "# shapes of the weights\n",
    "print(\"the shape of the layer1 weights is :\",w_layer1.shape)\n",
    "print(\"the shape of the layer2 weights is :\",w_layer2.shape)"
   ]
  },
  {
   "cell_type": "code",
   "execution_count": 33,
   "metadata": {},
   "outputs": [],
   "source": [
    "h_bias=w_layer1[:,0]\n",
    "o_bias=w_layer2[:,0]\n",
    "h_para=w_layer1[:,1:]\n",
    "o_para=w_layer2[:,1:]"
   ]
  },
  {
   "cell_type": "code",
   "execution_count": 34,
   "metadata": {},
   "outputs": [
    {
     "name": "stdout",
     "output_type": "stream",
     "text": [
      "Hidden layer shape of weights and bias  : (25, 400) (25, 1)\n",
      "Output layer shape of the weights and bias : (10, 25) (10, 1)\n",
      "Training shapes x_test and y_test : (1000, 400) (1000, 10)\n"
     ]
    }
   ],
   "source": [
    "# now the shapes of the bias and weights\n",
    "h_bias=h_bias.reshape((25,1))\n",
    "o_bias=o_bias.reshape((10,1))\n",
    "print(\"Hidden layer shape of weights and bias  :\",h_para.shape,h_bias.shape)\n",
    "print(\"Output layer shape of the weights and bias :\",o_para.shape,o_bias.shape)\n",
    "print(\"Training shapes x_test and y_test :\",x_test.shape,y_test.shape)"
   ]
  },
  {
   "cell_type": "code",
   "execution_count": 45,
   "metadata": {},
   "outputs": [],
   "source": [
    "# Forward propagation\n",
    "def sigmoid(activations,para,bias):\n",
    "    z=np.dot(activations,para.T)+bias.T\n",
    "    return (1/(1+np.exp(-z)))\n",
    "def neural_networks(features,h_para,h_bias,o_para,o_bias):\n",
    "    # hidden layer generating the activations for the inputs of input layer\n",
    "    a_h=sigmoid(features,h_para,h_bias)\n",
    "    a_o=sigmoid(a_h,o_para,o_bias)\n",
    "    return a_o\n",
    "y_predict=neural_networks(x_test,h_para,h_bias,o_para,o_bias)"
   ]
  },
  {
   "cell_type": "code",
   "execution_count": 46,
   "metadata": {},
   "outputs": [
    {
     "data": {
      "text/plain": [
       "array([[1.88265895e-04, 2.83274629e-02, 3.72551833e-02, ...,\n",
       "        1.94533220e-04, 1.50632687e-04, 9.29308701e-01],\n",
       "       [3.37953183e-01, 2.20928317e-04, 4.20586451e-04, ...,\n",
       "        1.18055451e-02, 1.74867413e-02, 1.41284091e-04],\n",
       "       [3.56033036e-03, 3.01820376e-04, 9.90303059e-03, ...,\n",
       "        5.54239368e-03, 9.88570045e-01, 4.17857120e-05],\n",
       "       ...,\n",
       "       [8.57404620e-01, 1.19013893e-02, 2.73309095e-03, ...,\n",
       "        1.33613156e-02, 3.00573875e-04, 5.85525037e-03],\n",
       "       [9.59608349e-04, 9.92547577e-01, 1.82449251e-02, ...,\n",
       "        4.54016441e-04, 1.98573445e-04, 1.07485284e-03],\n",
       "       [3.61914522e-03, 1.76765316e-02, 3.31715611e-04, ...,\n",
       "        5.96059246e-03, 2.14033266e-04, 4.00018736e-04]])"
      ]
     },
     "execution_count": 46,
     "metadata": {},
     "output_type": "execute_result"
    }
   ],
   "source": [
    "y_predict"
   ]
  },
  {
   "cell_type": "code",
   "execution_count": 47,
   "metadata": {},
   "outputs": [],
   "source": [
    "neu_pre=[]\n",
    "for i in y_predict:\n",
    "    k=[]\n",
    "    for j in i:\n",
    "        if(j>=0.5):\n",
    "            k.append(1)\n",
    "        else:\n",
    "            k.append(0)\n",
    "    neu_pre.append(k)"
   ]
  },
  {
   "cell_type": "code",
   "execution_count": 48,
   "metadata": {},
   "outputs": [],
   "source": [
    "n_num_prect=[]\n",
    "for i in neu_pre:\n",
    "    #print(i)\n",
    "    for k,j in enumerate(i):\n",
    "        if(j==1):\n",
    "            n_num_prect.append(k)\n",
    "            break\n",
    "        if(k==9 and j==0):\n",
    "            n_num_prect.append(0)\n",
    "            \n"
   ]
  },
  {
   "cell_type": "code",
   "execution_count": null,
   "metadata": {},
   "outputs": [],
   "source": []
  },
  {
   "cell_type": "code",
   "execution_count": 49,
   "metadata": {
    "scrolled": true
   },
   "outputs": [
    {
     "name": "stdout",
     "output_type": "stream",
     "text": [
      "950\n"
     ]
    }
   ],
   "source": [
    "countt=0\n",
    "for i,j in zip(testing,n_num_prect):\n",
    "    if(i==j):\n",
    "        countt+=1\n",
    "print(countt)"
   ]
  },
  {
   "cell_type": "code",
   "execution_count": 40,
   "metadata": {},
   "outputs": [
    {
     "data": {
      "text/plain": [
       "0.94525"
      ]
     },
     "execution_count": 40,
     "metadata": {},
     "output_type": "execute_result"
    }
   ],
   "source": [
    "3781/4000"
   ]
  },
  {
   "cell_type": "code",
   "execution_count": 43,
   "metadata": {},
   "outputs": [
    {
     "data": {
      "text/plain": [
       "array([0., 0., 0., 0., 0., 0., 0., 0., 0., 1.])"
      ]
     },
     "execution_count": 43,
     "metadata": {},
     "output_type": "execute_result"
    }
   ],
   "source": [
    "y_test[0]"
   ]
  },
  {
   "cell_type": "code",
   "execution_count": 50,
   "metadata": {},
   "outputs": [
    {
     "data": {
      "text/plain": [
       "[0, 0, 0, 0, 0, 0, 0, 0, 0, 1]"
      ]
     },
     "execution_count": 50,
     "metadata": {},
     "output_type": "execute_result"
    }
   ],
   "source": [
    "neu_pre[0]"
   ]
  },
  {
   "cell_type": "code",
   "execution_count": null,
   "metadata": {},
   "outputs": [],
   "source": []
  }
 ],
 "metadata": {
  "kernelspec": {
   "display_name": "Python 3",
   "language": "python",
   "name": "python3"
  },
  "language_info": {
   "codemirror_mode": {
    "name": "ipython",
    "version": 3
   },
   "file_extension": ".py",
   "mimetype": "text/x-python",
   "name": "python",
   "nbconvert_exporter": "python",
   "pygments_lexer": "ipython3",
   "version": "3.6.5"
  }
 },
 "nbformat": 4,
 "nbformat_minor": 2
}
