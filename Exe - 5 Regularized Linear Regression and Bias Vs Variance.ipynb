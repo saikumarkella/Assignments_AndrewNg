{
 "cells": [
  {
   "cell_type": "markdown",
   "metadata": {},
   "source": [
    "### Exercise : 5 \n",
    "#### Part :1 Regularized Linear Regression"
   ]
  },
  {
   "cell_type": "code",
   "execution_count": 1,
   "metadata": {},
   "outputs": [],
   "source": [
    "# importing the libraries\n",
    "import pandas as pd\n",
    "import numpy as np\n",
    "import matplotlib.pyplot as plt\n",
    "import scipy.io as sci"
   ]
  },
  {
   "cell_type": "code",
   "execution_count": 2,
   "metadata": {},
   "outputs": [],
   "source": [
    "# Loading the dataset\n",
    "data=sci.loadmat(\"ex5data1.mat\")"
   ]
  },
  {
   "cell_type": "code",
   "execution_count": 3,
   "metadata": {},
   "outputs": [],
   "source": [
    "# displaying the dataset\n",
    "# train set\n",
    "x_train=data[\"X\"]\n",
    "y_train=data[\"y\"]\n",
    "\n",
    "# test set\n",
    "x_test=data[\"Xtest\"]\n",
    "y_test=data[\"ytest\"]\n",
    "\n",
    "# cross validation set\n",
    "x_cv=data[\"Xval\"]\n",
    "y_cv=data[\"yval\"]"
   ]
  },
  {
   "cell_type": "code",
   "execution_count": 4,
   "metadata": {},
   "outputs": [
    {
     "name": "stdout",
     "output_type": "stream",
     "text": [
      "shape of train set : (12, 1) (12, 1)\n",
      "shape of test set : (21, 1) (21, 1)\n",
      "shape of cross validation set : (21, 1) (21, 1)\n"
     ]
    }
   ],
   "source": [
    "# displaying the shape of the different types of datasets\n",
    "print(\"shape of train set :\",x_train.shape,y_train.shape)\n",
    "print(\"shape of test set :\",y_test.shape,y_test.shape)\n",
    "print(\"shape of cross validation set :\",x_cv.shape,y_cv.shape)"
   ]
  },
  {
   "cell_type": "markdown",
   "metadata": {},
   "source": [
    "##### About dataset :\n",
    "- features(1): change in the water level\n",
    "- target(1)  : Amount of water flowing out of the dam "
   ]
  },
  {
   "cell_type": "markdown",
   "metadata": {},
   "source": [
    "##### Dataset is divided in to 3 parts\n",
    "- A Training set is used to train the model\n",
    "- A \"Cross validation set\" is used to determine the regularization parameter\n",
    "- A \"Test set\" is used to evaluting performance of the model"
   ]
  },
  {
   "cell_type": "markdown",
   "metadata": {},
   "source": [
    "##### 1. Visualizing the dataset"
   ]
  },
  {
   "cell_type": "code",
   "execution_count": 5,
   "metadata": {},
   "outputs": [
    {
     "data": {
      "text/plain": [
       "<matplotlib.collections.PathCollection at 0x7f79f4d6b828>"
      ]
     },
     "execution_count": 5,
     "metadata": {},
     "output_type": "execute_result"
    },
    {
     "data": {
      "image/png": "[encoded data removed]",
      "text/plain": [
       "<Figure size 432x288 with 1 Axes>"
      ]
     },
     "metadata": {},
     "output_type": "display_data"
    }
   ],
   "source": [
    "%matplotlib inline\n",
    "plt.scatter(x_train,y_train,color=\"red\")"
   ]
  },
  {
   "cell_type": "markdown",
   "metadata": {},
   "source": [
    "##### 1.2) Regularized Linear cost function"
   ]
  },
  {
   "cell_type": "code",
   "execution_count": 6,
   "metadata": {},
   "outputs": [],
   "source": [
    "def hypo(x_train,para,bias):\n",
    "    return np.dot(x_train,para)+bias\n",
    "def Regularized_Cost_function(x_train,y_train,para,bias,reg_term):\n",
    "    m=x_train.shape[0]\n",
    "    c=(1/(2*m))*sum((hypo(x_train,para,bias)-y_train)**2)+ (reg_term/(2*m))*sum(para**2)  \n",
    "    return c"
   ]
  },
  {
   "cell_type": "code",
   "execution_count": 7,
   "metadata": {},
   "outputs": [],
   "source": [
    "para=np.ones((1,1))\n",
    "bias=1\n",
    "reg_term=0.2\n",
    "error=Regularized_Cost_function(x_train,y_train,para,bias,reg_term)"
   ]
  },
  {
   "cell_type": "code",
   "execution_count": 8,
   "metadata": {},
   "outputs": [
    {
     "name": "stdout",
     "output_type": "stream",
     "text": [
      "[303.95985889]\n"
     ]
    }
   ],
   "source": [
    "print(error)"
   ]
  },
  {
   "cell_type": "markdown",
   "metadata": {},
   "source": [
    "##### 1.3) Regularized linear regression gradient"
   ]
  },
  {
   "cell_type": "code",
   "execution_count": 9,
   "metadata": {},
   "outputs": [],
   "source": [
    "def Gradient_descent(x_train,y_train,para,bias,learning_rate,reg_term):\n",
    "    num_iter=2000\n",
    "    m=x_train.shape[0]\n",
    "    for _ in range(num_iter):\n",
    "        pre=hypo(x_train,para,bias)\n",
    "        tre=pre-y_train\n",
    "        para=para-(learning_rate/m)*((np.dot(x_train.T,tre))+reg_term*sum(para))\n",
    "        bias=bias-((learning_rate/m)*(sum(tre)))\n",
    "    return bias,para"
   ]
  },
  {
   "cell_type": "code",
   "execution_count": 10,
   "metadata": {},
   "outputs": [],
   "source": [
    "learning_rate=0.001\n",
    "reg_term=0\n",
    "b,p=Gradient_descent(x_train,y_train,para,bias,learning_rate,reg_term)"
   ]
  },
  {
   "cell_type": "code",
   "execution_count": 11,
   "metadata": {},
   "outputs": [
    {
     "name": "stdout",
     "output_type": "stream",
     "text": [
      "[23.8358144]\n"
     ]
    }
   ],
   "source": [
    "print(Regularized_Cost_function(x_train,y_train,p,b,reg_term))"
   ]
  },
  {
   "cell_type": "markdown",
   "metadata": {},
   "source": [
    "##### 1.4)Fitting the data in to the model"
   ]
  },
  {
   "cell_type": "code",
   "execution_count": 12,
   "metadata": {},
   "outputs": [
    {
     "data": {
      "text/plain": [
       "[<matplotlib.lines.Line2D at 0x7f79f4d9ec88>]"
      ]
     },
     "execution_count": 12,
     "metadata": {},
     "output_type": "execute_result"
    },
    {
     "data": {
      "image/png": "[encoded data removed]",
      "text/plain": [
       "<Figure size 432x288 with 1 Axes>"
      ]
     },
     "metadata": {},
     "output_type": "display_data"
    }
   ],
   "source": [
    "plt.scatter(x_train,y_train,color=\"red\")\n",
    "plt.plot(x_train,hypo(x_train,p,b),color=\"blue\")"
   ]
  },
  {
   "cell_type": "markdown",
   "metadata": {},
   "source": [
    "##### 1.5) Bias - Variance"
   ]
  },
  {
   "cell_type": "code",
   "execution_count": null,
   "metadata": {},
   "outputs": [],
   "source": []
  }
 ],
 "metadata": {
  "kernelspec": {
   "display_name": "Python 3",
   "language": "python",
   "name": "python3"
  },
  "language_info": {
   "codemirror_mode": {
    "name": "ipython",
    "version": 3
   },
   "file_extension": ".py",
   "mimetype": "text/x-python",
   "name": "python",
   "nbconvert_exporter": "python",
   "pygments_lexer": "ipython3",
   "version": "3.6.5"
  }
 },
 "nbformat": 4,
 "nbformat_minor": 2
}
