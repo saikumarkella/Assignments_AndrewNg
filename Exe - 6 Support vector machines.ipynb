{
 "cells": [
  {
   "cell_type": "markdown",
   "metadata": {},
   "source": [
    "   #### Exercise : 6 SUPPORT VECTOR MACHINES"
   ]
  },
  {
   "cell_type": "markdown",
   "metadata": {},
   "source": [
    "- 1.1 Example dataset 1:\n",
    "- applying linear decision boundary for the support vector machines"
   ]
  },
  {
   "cell_type": "code",
   "execution_count": 1,
   "metadata": {},
   "outputs": [],
   "source": [
    "# importing the libraries\n",
    "import pandas as pd\n",
    "import numpy as np\n",
    "import matplotlib.pyplot as plt\n",
    "import scipy.io as sci"
   ]
  },
  {
   "cell_type": "code",
   "execution_count": 36,
   "metadata": {},
   "outputs": [],
   "source": [
    "# loading the datasets\n",
    "data=sci.loadmat(\"ex6data1.mat\")"
   ]
  },
  {
   "cell_type": "code",
   "execution_count": 37,
   "metadata": {},
   "outputs": [],
   "source": [
    "# seperating the dependent variables and independent variables\n",
    "x=data[\"X\"]\n",
    "y=data[\"y\"]"
   ]
  },
  {
   "cell_type": "code",
   "execution_count": 38,
   "metadata": {},
   "outputs": [],
   "source": [
    "yy=[]\n",
    "for i,j in enumerate(y):\n",
    "    if(j==0):\n",
    "        yy.append(-1)\n",
    "    else:\n",
    "        yy.append(1)"
   ]
  },
  {
   "cell_type": "code",
   "execution_count": 44,
   "metadata": {},
   "outputs": [],
   "source": [
    "y=np.array(yy)\n",
    "y=y.reshape((len(y),1))\n"
   ]
  },
  {
   "cell_type": "code",
   "execution_count": 45,
   "metadata": {},
   "outputs": [
    {
     "name": "stdout",
     "output_type": "stream",
     "text": [
      "the shape of the data : (51, 2) (51, 1)\n"
     ]
    }
   ],
   "source": [
    "# printing the shape of the x and y\n",
    "print(\"the shape of the data :\",x.shape,y.shape)"
   ]
  },
  {
   "cell_type": "code",
   "execution_count": 46,
   "metadata": {},
   "outputs": [
    {
     "data": {
      "image/png": "[encoded data removed]",
      "text/plain": [
       "<Figure size 432x288 with 1 Axes>"
      ]
     },
     "metadata": {},
     "output_type": "display_data"
    }
   ],
   "source": [
    "# plotting the dataset\n",
    "for i,j in enumerate(y):\n",
    "    if(j==1):\n",
    "        plt.scatter(x[i,0],x[i,1],color=\"red\")\n",
    "    else:\n",
    "        plt.scatter(x[i,0],x[i,1],color=\"green\")\n",
    "        "
   ]
  },
  {
   "cell_type": "markdown",
   "metadata": {},
   "source": [
    "#### Building the  SVM model"
   ]
  },
  {
   "cell_type": "code",
   "execution_count": 49,
   "metadata": {},
   "outputs": [],
   "source": [
    "# splitting the dataset in to the train and test set\n",
    "from sklearn.cross_validation import train_test_split\n",
    "x_train,x_test,y_train,y_test=train_test_split(x,y,test_size=0.2,random_state=0)"
   ]
  },
  {
   "cell_type": "code",
   "execution_count": 50,
   "metadata": {},
   "outputs": [
    {
     "name": "stdout",
     "output_type": "stream",
     "text": [
      "the shape of the train set : (40, 2) (40, 1)\n",
      "the shape of the test set : (11, 2) (11, 1)\n"
     ]
    }
   ],
   "source": [
    "# printing the shape of the data\n",
    "print(\"the shape of the train set :\",x_train.shape,y_train.shape)\n",
    "print(\"the shape of the test set :\",x_test.shape,y_test.shape)"
   ]
  },
  {
   "cell_type": "code",
   "execution_count": 51,
   "metadata": {},
   "outputs": [],
   "source": [
    "# building the model\n",
    "def hypo(x_train,para,bias):\n",
    "    a=np.dot(x_train,para)+bias\n",
    "    return 1/(1+np.exp(-a))\n",
    "def SVM(x_train,y_train,para,bias,c):\n",
    "    num_iters=500\n",
    "    for _ in range(num_iters):\n",
    "        h=hypo(x_train,para,bias)\n",
    "        tar=h-y_train\n",
    "        para=para+c*np.dot(x_train.T,tar)+sum(para)\n",
    "        bias=bias+c*sum(tar)\n",
    "    return para,bias"
   ]
  },
  {
   "cell_type": "code",
   "execution_count": 52,
   "metadata": {},
   "outputs": [],
   "source": [
    "c=12\n",
    "para=np.ones((x_train.shape[1],1))\n",
    "bias=np.ones((1,1))\n",
    "p,b=SVM(x_train,y_train,para,bias,c)"
   ]
  },
  {
   "cell_type": "code",
   "execution_count": 53,
   "metadata": {},
   "outputs": [
    {
     "data": {
      "text/plain": [
       "array([[275999.35273153]])"
      ]
     },
     "execution_count": 53,
     "metadata": {},
     "output_type": "execute_result"
    }
   ],
   "source": [
    "b"
   ]
  },
  {
   "cell_type": "code",
   "execution_count": 54,
   "metadata": {},
   "outputs": [
    {
     "data": {
      "text/plain": [
       "[<matplotlib.lines.Line2D at 0x7fd2722de160>]"
      ]
     },
     "execution_count": 54,
     "metadata": {},
     "output_type": "execute_result"
    },
    {
     "data": {
      "image/png": "[encoded data removed]",
      "text/plain": [
       "<Figure size 432x288 with 1 Axes>"
      ]
     },
     "metadata": {},
     "output_type": "display_data"
    }
   ],
   "source": [
    "for i,j in enumerate(y):\n",
    "    if(j==1):\n",
    "        plt.scatter(x[i,0],x[i,1],color=\"red\")\n",
    "    else:\n",
    "        plt.scatter(x[i,0],x[i,1],color=\"green\")\n",
    "t=x[:,0]\n",
    "t=t.reshape((x.shape[0],1))\n",
    "def draw(t):\n",
    "    bb=b\n",
    "    bb=bb.reshape((b[0].shape[0],1))\n",
    "    pp=p[0]\n",
    "    pp=pp.reshape((p[0].shape[0],1))\n",
    "    pp1=p[1]\n",
    "    pp1=pp1.reshape((p[1].shape[0],1))\n",
    "    return (b-p[0]*t)/p[1]\n",
    "\n",
    "plt.plot(t,draw(t))"
   ]
  },
  {
   "cell_type": "code",
   "execution_count": 55,
   "metadata": {},
   "outputs": [],
   "source": [
    "a=b[0]+p[0]*x[:,0]"
   ]
  },
  {
   "cell_type": "code",
   "execution_count": 56,
   "metadata": {},
   "outputs": [],
   "source": [
    "a=a/p[1]"
   ]
  },
  {
   "cell_type": "code",
   "execution_count": 57,
   "metadata": {},
   "outputs": [
    {
     "data": {
      "text/plain": [
       "(51,)"
      ]
     },
     "execution_count": 57,
     "metadata": {},
     "output_type": "execute_result"
    }
   ],
   "source": [
    "a.shape"
   ]
  },
  {
   "cell_type": "markdown",
   "metadata": {},
   "source": [
    "#### Defining the SVM by the hinge loss function "
   ]
  },
  {
   "cell_type": "code",
   "execution_count": 359,
   "metadata": {},
   "outputs": [],
   "source": [
    "def hypo(x_train,para,bias):\n",
    "    return np.dot(x_train,para)+bias\n",
    "\n",
    "\n",
    "def Cost_function(x_train,y_train,para,bias,reg_per):\n",
    "    h=y_train*hypo(x_train,para,bias)\n",
    "    k=[]\n",
    "    for i in h:\n",
    "        if(i>=1):\n",
    "            k.append(0)\n",
    "        else:\n",
    "            k.append(1)\n",
    "    kk=(1-h)*k\n",
    "   # print(h)\n",
    "    c=reg_per*np.dot(para.T,para)+sum(kk*k)\n",
    "    c=c.reshape((x_train.shape[0],1))\n",
    "    return c\n",
    "def Gradent_descent(x_train,y_train,para,bias,reg_per,learning_rate):\n",
    "    num_iters=10000\n",
    "    for _ in range(num_iters):\n",
    "        for i, x in enumerate(x_train):\n",
    "            #misclassification\n",
    "            \n",
    "            a=np.dot(x_train[i],para)\n",
    "            \n",
    "            s=y_train[i]*a\n",
    "            if (s) < 1:\n",
    "                x=x_train[i].reshape((2,1))\n",
    "                #misclassified update for ours weights\n",
    "                para = para + learning_rate * ( (x * y_train[i]) + (-2  *(1/num_iters)* para) )\n",
    "                error = 1\n",
    "            else:\n",
    "                #correct classification, update our weights\n",
    "                para = para + learning_rate * (-2  *(1/num_iters)* para)\n",
    "        bias=bias+learning_rate*(sum(y_train))\n",
    "    return para,bias\n",
    "    \n",
    "def Predict(x_feat,para,bias):  \n",
    "    p=hypo(x_feat,para,bias)\n",
    "    k=[]\n",
    "    for i in p:\n",
    "        if(i>=0):\n",
    "            k.append(1)\n",
    "        else:\n",
    "            k.append(-1)\n",
    "    return k\n",
    "    "
   ]
  },
  {
   "cell_type": "code",
   "execution_count": 393,
   "metadata": {},
   "outputs": [],
   "source": [
    "learning_rate=0.005\n",
    "reg_para=1\n",
    "para=np.ones((x_train.shape[1],1))\n",
    "bias=np.ones((1,1))\n",
    "p,b=Gradent_descent(x_train,y_train,para,bias,reg_para,learning_rate)\n"
   ]
  },
  {
   "cell_type": "code",
   "execution_count": 394,
   "metadata": {},
   "outputs": [],
   "source": [
    "pre=Predict(x_test,p,b)"
   ]
  },
  {
   "cell_type": "code",
   "execution_count": 395,
   "metadata": {},
   "outputs": [
    {
     "data": {
      "text/plain": [
       "[-1, -1, -1, -1, -1, -1, -1, -1, -1, -1, -1]"
      ]
     },
     "execution_count": 395,
     "metadata": {},
     "output_type": "execute_result"
    }
   ],
   "source": [
    "pre"
   ]
  },
  {
   "cell_type": "code",
   "execution_count": 396,
   "metadata": {},
   "outputs": [
    {
     "data": {
      "text/plain": [
       "array([[-1],\n",
       "       [ 1],\n",
       "       [ 1],\n",
       "       [-1],\n",
       "       [ 1],\n",
       "       [-1],\n",
       "       [-1],\n",
       "       [-1],\n",
       "       [-1],\n",
       "       [ 1],\n",
       "       [-1]])"
      ]
     },
     "execution_count": 396,
     "metadata": {},
     "output_type": "execute_result"
    }
   ],
   "source": [
    "y_test"
   ]
  },
  {
   "cell_type": "code",
   "execution_count": 397,
   "metadata": {},
   "outputs": [],
   "source": [
    "c=Cost_function(x_train,y_train,p,b,reg_para)"
   ]
  },
  {
   "cell_type": "code",
   "execution_count": 398,
   "metadata": {},
   "outputs": [
    {
     "data": {
      "text/plain": [
       "<matplotlib.quiver.Quiver at 0x7fd270442fd0>"
      ]
     },
     "execution_count": 398,
     "metadata": {},
     "output_type": "execute_result"
    },
    {
     "data": {
      "image/png": "[encoded data removed]",
      "text/plain": [
       "<Figure size 432x288 with 1 Axes>"
      ]
     },
     "metadata": {},
     "output_type": "display_data"
    }
   ],
   "source": [
    "for i,j in enumerate(y):\n",
    "    if(j==1):\n",
    "        plt.scatter(x[i,0],x[i,1],color=\"red\")\n",
    "    else:\n",
    "        plt.scatter(x[i,0],x[i,1],color=\"green\")\n",
    "x2=[p[0],p[1],-p[1],p[0]]\n",
    "x3=[p[0],p[1],p[1],-p[0]]\n",
    "x2x3=np.array([x2,x3])\n",
    "X,Y,U,V=zip(*x2x3)\n",
    "ax=plt.gca()\n",
    "ax.quiver(X,Y,U,V,scale=0.1, color='blue')"
   ]
  },
  {
   "cell_type": "code",
   "execution_count": null,
   "metadata": {},
   "outputs": [],
   "source": []
  },
  {
   "cell_type": "code",
   "execution_count": null,
   "metadata": {},
   "outputs": [],
   "source": []
  },
  {
   "cell_type": "markdown",
   "metadata": {},
   "source": [
    "#### Preprocesing Emails"
   ]
  },
  {
   "cell_type": "code",
   "execution_count": 402,
   "metadata": {},
   "outputs": [],
   "source": [
    "import io"
   ]
  },
  {
   "cell_type": "code",
   "execution_count": 403,
   "metadata": {},
   "outputs": [],
   "source": [
    "Em=io.open(\"emailSample1.txt\")"
   ]
  },
  {
   "cell_type": "code",
   "execution_count": 410,
   "metadata": {},
   "outputs": [
    {
     "name": "stdout",
     "output_type": "stream",
     "text": [
      "> Anyone knows how much it costs to host a web portal ?\n",
      "\n",
      ">\n",
      "\n",
      "Well, it depends on how many visitors you're expecting.\n",
      "\n",
      "This can be anywhere from less than 10 bucks a month to a couple of $100. \n",
      "\n",
      "You should checkout http://www.rackspace.com/ or perhaps Amazon EC2 \n",
      "\n",
      "if youre running something big..\n",
      "\n",
      "\n",
      "\n",
      "To unsubscribe yourself from this mailing list, send an email to:\n",
      "\n",
      "groupname-unsubscribe@egroups.com\n",
      "\n",
      "\n",
      "\n"
     ]
    }
   ],
   "source": [
    "for i in Em.readlines():\n",
    "    print(i)"
   ]
  },
  {
   "cell_type": "code",
   "execution_count": null,
   "metadata": {},
   "outputs": [],
   "source": []
  },
  {
   "cell_type": "code",
   "execution_count": null,
   "metadata": {},
   "outputs": [],
   "source": []
  }
 ],
 "metadata": {
  "kernelspec": {
   "display_name": "Python 3",
   "language": "python",
   "name": "python3"
  },
  "language_info": {
   "codemirror_mode": {
    "name": "ipython",
    "version": 3
   },
   "file_extension": ".py",
   "mimetype": "text/x-python",
   "name": "python",
   "nbconvert_exporter": "python",
   "pygments_lexer": "ipython3",
   "version": "3.6.5"
  }
 },
 "nbformat": 4,
 "nbformat_minor": 2
}
